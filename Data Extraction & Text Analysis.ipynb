{
 "cells": [
  {
   "cell_type": "code",
   "execution_count": 1,
   "id": "609ed7ec",
   "metadata": {},
   "outputs": [],
   "source": [
    "import pandas as pd\n",
    "import requests\n",
    "from bs4 import BeautifulSoup\n",
    "import nltk\n",
    "from nltk.tokenize import sent_tokenize\n",
    "from nltk.tokenize import word_tokenize\n",
    "from nltk.corpus import stopwords\n",
    "from nltk.tokenize import word_tokenize\n",
    "from nltk.sentiment.vader import SentimentIntensityAnalyzer\n",
    "import string\n",
    "from textblob import TextBlob\n",
    "import csv\n",
    "import numpy as np"
   ]
  },
  {
   "cell_type": "code",
   "execution_count": 2,
   "id": "2d47dc2f",
   "metadata": {},
   "outputs": [
    {
     "name": "stderr",
     "output_type": "stream",
     "text": [
      "[nltk_data] Downloading package stopwords to\n",
      "[nltk_data]     C:\\Users\\Shirish\\AppData\\Roaming\\nltk_data...\n",
      "[nltk_data]   Package stopwords is already up-to-date!\n",
      "[nltk_data] Downloading package punkt to\n",
      "[nltk_data]     C:\\Users\\Shirish\\AppData\\Roaming\\nltk_data...\n",
      "[nltk_data]   Package punkt is already up-to-date!\n"
     ]
    },
    {
     "data": {
      "text/plain": [
       "True"
      ]
     },
     "execution_count": 2,
     "metadata": {},
     "output_type": "execute_result"
    }
   ],
   "source": [
    "nltk.download('stopwords')\n",
    "nltk.download('punkt')"
   ]
  },
  {
   "cell_type": "code",
   "execution_count": 3,
   "id": "2a0ac3eb",
   "metadata": {},
   "outputs": [
    {
     "data": {
      "text/html": [
       "<div>\n",
       "<style scoped>\n",
       "    .dataframe tbody tr th:only-of-type {\n",
       "        vertical-align: middle;\n",
       "    }\n",
       "\n",
       "    .dataframe tbody tr th {\n",
       "        vertical-align: top;\n",
       "    }\n",
       "\n",
       "    .dataframe thead th {\n",
       "        text-align: right;\n",
       "    }\n",
       "</style>\n",
       "<table border=\"1\" class=\"dataframe\">\n",
       "  <thead>\n",
       "    <tr style=\"text-align: right;\">\n",
       "      <th></th>\n",
       "      <th>URL_ID</th>\n",
       "      <th>URL</th>\n",
       "    </tr>\n",
       "  </thead>\n",
       "  <tbody>\n",
       "    <tr>\n",
       "      <th>0</th>\n",
       "      <td>37</td>\n",
       "      <td>https://insights.blackcoffer.com/ai-in-healthc...</td>\n",
       "    </tr>\n",
       "    <tr>\n",
       "      <th>1</th>\n",
       "      <td>38</td>\n",
       "      <td>https://insights.blackcoffer.com/what-if-the-c...</td>\n",
       "    </tr>\n",
       "    <tr>\n",
       "      <th>2</th>\n",
       "      <td>39</td>\n",
       "      <td>https://insights.blackcoffer.com/what-jobs-wil...</td>\n",
       "    </tr>\n",
       "    <tr>\n",
       "      <th>3</th>\n",
       "      <td>40</td>\n",
       "      <td>https://insights.blackcoffer.com/will-machine-...</td>\n",
       "    </tr>\n",
       "    <tr>\n",
       "      <th>4</th>\n",
       "      <td>41</td>\n",
       "      <td>https://insights.blackcoffer.com/will-ai-repla...</td>\n",
       "    </tr>\n",
       "    <tr>\n",
       "      <th>...</th>\n",
       "      <td>...</td>\n",
       "      <td>...</td>\n",
       "    </tr>\n",
       "    <tr>\n",
       "      <th>109</th>\n",
       "      <td>146</td>\n",
       "      <td>https://insights.blackcoffer.com/blockchain-fo...</td>\n",
       "    </tr>\n",
       "    <tr>\n",
       "      <th>110</th>\n",
       "      <td>147</td>\n",
       "      <td>https://insights.blackcoffer.com/the-future-of...</td>\n",
       "    </tr>\n",
       "    <tr>\n",
       "      <th>111</th>\n",
       "      <td>148</td>\n",
       "      <td>https://insights.blackcoffer.com/big-data-anal...</td>\n",
       "    </tr>\n",
       "    <tr>\n",
       "      <th>112</th>\n",
       "      <td>149</td>\n",
       "      <td>https://insights.blackcoffer.com/business-anal...</td>\n",
       "    </tr>\n",
       "    <tr>\n",
       "      <th>113</th>\n",
       "      <td>150</td>\n",
       "      <td>https://insights.blackcoffer.com/challenges-an...</td>\n",
       "    </tr>\n",
       "  </tbody>\n",
       "</table>\n",
       "<p>114 rows × 2 columns</p>\n",
       "</div>"
      ],
      "text/plain": [
       "     URL_ID                                                URL\n",
       "0        37  https://insights.blackcoffer.com/ai-in-healthc...\n",
       "1        38  https://insights.blackcoffer.com/what-if-the-c...\n",
       "2        39  https://insights.blackcoffer.com/what-jobs-wil...\n",
       "3        40  https://insights.blackcoffer.com/will-machine-...\n",
       "4        41  https://insights.blackcoffer.com/will-ai-repla...\n",
       "..      ...                                                ...\n",
       "109     146  https://insights.blackcoffer.com/blockchain-fo...\n",
       "110     147  https://insights.blackcoffer.com/the-future-of...\n",
       "111     148  https://insights.blackcoffer.com/big-data-anal...\n",
       "112     149  https://insights.blackcoffer.com/business-anal...\n",
       "113     150  https://insights.blackcoffer.com/challenges-an...\n",
       "\n",
       "[114 rows x 2 columns]"
      ]
     },
     "execution_count": 3,
     "metadata": {},
     "output_type": "execute_result"
    }
   ],
   "source": [
    "df = pd.read_csv('Input.csv')\n",
    "df"
   ]
  },
  {
   "cell_type": "code",
   "execution_count": 4,
   "id": "fab020e7",
   "metadata": {},
   "outputs": [
    {
     "data": {
      "text/plain": [
       "['https://insights.blackcoffer.com/ai-in-healthcare-to-improve-patient-outcomes/',\n",
       " 'https://insights.blackcoffer.com/what-if-the-creation-is-taking-over-the-creator/',\n",
       " 'https://insights.blackcoffer.com/what-jobs-will-robots-take-from-humans-in-the-future/',\n",
       " 'https://insights.blackcoffer.com/will-machine-replace-the-human-in-the-future-of-work/',\n",
       " 'https://insights.blackcoffer.com/will-ai-replace-us-or-work-with-us/',\n",
       " 'https://insights.blackcoffer.com/man-and-machines-together-machines-are-more-diligent-than-humans-blackcoffe/',\n",
       " 'https://insights.blackcoffer.com/in-future-or-in-upcoming-years-humans-and-machines-are-going-to-work-together-in-every-field-of-work/',\n",
       " 'https://insights.blackcoffer.com/how-neural-networks-can-be-applied-in-various-areas-in-the-future/',\n",
       " 'https://insights.blackcoffer.com/how-machine-learning-will-affect-your-business/',\n",
       " 'https://insights.blackcoffer.com/deep-learning-impact-on-areas-of-e-learning/',\n",
       " 'https://insights.blackcoffer.com/how-to-protect-future-data-and-its-privacy-blackcoffer/',\n",
       " 'https://insights.blackcoffer.com/how-machines-ai-automations-and-robo-human-are-effective-in-finance-and-banking/',\n",
       " 'https://insights.blackcoffer.com/ai-human-robotics-machine-future-planet-blackcoffer-thinking-jobs-workplace/',\n",
       " 'https://insights.blackcoffer.com/how-ai-will-change-the-world-blackcoffer/',\n",
       " 'https://insights.blackcoffer.com/future-of-work-how-ai-has-entered-the-workplace/',\n",
       " 'https://insights.blackcoffer.com/ai-tool-alexa-google-assistant-finance-banking-tool-future/',\n",
       " 'https://insights.blackcoffer.com/ai-healthcare-revolution-ml-technology-algorithm-google-analytics-industrialrevolution/',\n",
       " 'https://insights.blackcoffer.com/all-you-need-to-know-about-online-marketing/',\n",
       " 'https://insights.blackcoffer.com/evolution-of-advertising-industry/',\n",
       " 'https://insights.blackcoffer.com/how-data-analytics-can-help-your-business-respond-to-the-impact-of-covid-19/',\n",
       " 'https://insights.blackcoffer.com/covid-19-environmental-impact-for-the-future/',\n",
       " 'https://insights.blackcoffer.com/environmental-impact-of-the-covid-19-pandemic-lesson-for-the-future/',\n",
       " 'https://insights.blackcoffer.com/how-data-analytics-and-ai-are-used-to-halt-the-covid-19-pandemic/',\n",
       " 'https://insights.blackcoffer.com/difference-between-artificial-intelligence-machine-learning-statistics-and-data-mining/',\n",
       " 'https://insights.blackcoffer.com/how-python-became-the-first-choice-for-data-science/',\n",
       " 'https://insights.blackcoffer.com/how-google-fit-measure-heart-and-respiratory-rates-using-a-phone/',\n",
       " 'https://insights.blackcoffer.com/what-is-the-future-of-mobile-apps/',\n",
       " 'https://insights.blackcoffer.com/impact-of-ai-in-health-and-medicine/',\n",
       " 'https://insights.blackcoffer.com/telemedicine-what-patients-like-and-dislike-about-it/',\n",
       " 'https://insights.blackcoffer.com/how-we-forecast-future-technologies/',\n",
       " 'https://insights.blackcoffer.com/can-robots-tackle-late-life-loneliness/',\n",
       " 'https://insights.blackcoffer.com/embedding-care-robots-into-society-socio-technical-considerations/',\n",
       " 'https://insights.blackcoffer.com/management-challenges-for-future-digitalization-of-healthcare-services/',\n",
       " 'https://insights.blackcoffer.com/are-we-any-closer-to-preventing-a-nuclear-holocaust/',\n",
       " 'https://insights.blackcoffer.com/will-technology-eliminate-the-need-for-animal-testing-in-drug-development/',\n",
       " 'https://insights.blackcoffer.com/will-we-ever-understand-the-nature-of-consciousness/',\n",
       " 'https://insights.blackcoffer.com/will-we-ever-colonize-outer-space/',\n",
       " 'https://insights.blackcoffer.com/what-is-the-chance-homo-sapiens-will-survive-for-the-next-500-years/',\n",
       " 'https://insights.blackcoffer.com/why-does-your-business-need-a-chatbot/',\n",
       " 'https://insights.blackcoffer.com/how-you-lead-a-project-or-a-team-without-any-technical-expertise/',\n",
       " 'https://insights.blackcoffer.com/can-you-be-great-leader-without-technical-expertise/',\n",
       " 'https://insights.blackcoffer.com/how-does-artificial-intelligence-affect-the-environment/',\n",
       " 'https://insights.blackcoffer.com/how-to-overcome-your-fear-of-making-mistakes-2/',\n",
       " 'https://insights.blackcoffer.com/is-perfection-the-greatest-enemy-of-productivity/',\n",
       " 'https://insights.blackcoffer.com/global-financial-crisis-2008-causes-effects-and-its-solution/',\n",
       " 'https://insights.blackcoffer.com/gender-diversity-and-equality-in-the-tech-industry/',\n",
       " 'https://insights.blackcoffer.com/how-to-overcome-your-fear-of-making-mistakes/',\n",
       " 'https://insights.blackcoffer.com/how-small-business-can-survive-the-coronavirus-crisis/',\n",
       " 'https://insights.blackcoffer.com/impacts-of-covid-19-on-vegetable-vendors-and-food-stalls/',\n",
       " 'https://insights.blackcoffer.com/impacts-of-covid-19-on-vegetable-vendors/',\n",
       " 'https://insights.blackcoffer.com/impact-of-covid-19-pandemic-on-tourism-aviation-industries/',\n",
       " 'https://insights.blackcoffer.com/impact-of-covid-19-pandemic-on-sports-events-around-the-world/',\n",
       " 'https://insights.blackcoffer.com/changing-landscape-and-emerging-trends-in-the-indian-it-ites-industry/',\n",
       " 'https://insights.blackcoffer.com/online-gaming-adolescent-online-gaming-effects-demotivated-depression-musculoskeletal-and-psychosomatic-symptoms/',\n",
       " 'https://insights.blackcoffer.com/human-rights-outlook/',\n",
       " 'https://insights.blackcoffer.com/how-voice-search-makes-your-business-a-successful-business/',\n",
       " 'https://insights.blackcoffer.com/how-the-covid-19-crisis-is-redefining-jobs-and-services/',\n",
       " 'https://insights.blackcoffer.com/how-to-increase-social-media-engagement-for-marketers/',\n",
       " 'https://insights.blackcoffer.com/impacts-of-covid-19-on-streets-sides-food-stalls/',\n",
       " 'https://insights.blackcoffer.com/coronavirus-impact-on-energy-markets-2/',\n",
       " 'https://insights.blackcoffer.com/coronavirus-impact-on-the-hospitality-industry-5/',\n",
       " 'https://insights.blackcoffer.com/lessons-from-the-past-some-key-learnings-relevant-to-the-coronavirus-crisis-4/',\n",
       " 'https://insights.blackcoffer.com/estimating-the-impact-of-covid-19-on-the-world-of-work-2/',\n",
       " 'https://insights.blackcoffer.com/estimating-the-impact-of-covid-19-on-the-world-of-work-3/',\n",
       " 'https://insights.blackcoffer.com/travel-and-tourism-outlook/',\n",
       " 'https://insights.blackcoffer.com/gaming-disorder-and-effects-of-gaming-on-health/',\n",
       " 'https://insights.blackcoffer.com/what-is-the-repercussion-of-the-environment-due-to-the-covid-19-pandemic-situation/',\n",
       " 'https://insights.blackcoffer.com/what-is-the-repercussion-of-the-environment-due-to-the-covid-19-pandemic-situation-2/',\n",
       " 'https://insights.blackcoffer.com/impact-of-covid-19-pandemic-on-office-space-and-co-working-industries/',\n",
       " 'https://insights.blackcoffer.com/contribution-of-handicrafts-visual-arts-literature-in-the-indian-economy/',\n",
       " 'https://insights.blackcoffer.com/how-covid-19-is-impacting-payment-preferences/',\n",
       " 'https://insights.blackcoffer.com/how-will-covid-19-affect-the-world-of-work-2/',\n",
       " 'https://insights.blackcoffer.com/lessons-from-the-past-some-key-learnings-relevant-to-the-coronavirus-crisis/',\n",
       " 'https://insights.blackcoffer.com/covid-19-how-have-countries-been-responding/',\n",
       " 'https://insights.blackcoffer.com/coronavirus-impact-on-the-hospitality-industry-2/',\n",
       " 'https://insights.blackcoffer.com/how-will-covid-19-affect-the-world-of-work-3/',\n",
       " 'https://insights.blackcoffer.com/coronavirus-impact-on-the-hospitality-industry-3/',\n",
       " 'https://insights.blackcoffer.com/estimating-the-impact-of-covid-19-on-the-world-of-work/',\n",
       " 'https://insights.blackcoffer.com/covid-19-how-have-countries-been-responding-2/',\n",
       " 'https://insights.blackcoffer.com/how-will-covid-19-affect-the-world-of-work-4/',\n",
       " 'https://insights.blackcoffer.com/lessons-from-the-past-some-key-learnings-relevant-to-the-coronavirus-crisis-2/',\n",
       " 'https://insights.blackcoffer.com/lessons-from-the-past-some-key-learnings-relevant-to-the-coronavirus-crisis-3/',\n",
       " 'https://insights.blackcoffer.com/coronavirus-impact-on-the-hospitality-industry-4/',\n",
       " 'https://insights.blackcoffer.com/why-scams-like-nirav-modi-happen-with-indian-banks/',\n",
       " 'https://insights.blackcoffer.com/impact-of-covid-19-on-the-global-economy/',\n",
       " 'https://insights.blackcoffer.com/impact-of-covid-19coronavirus-on-the-indian-economy-2/',\n",
       " 'https://insights.blackcoffer.com/impact-of-covid-19-on-the-global-economy-2/',\n",
       " 'https://insights.blackcoffer.com/impact-of-covid-19-coronavirus-on-the-indian-economy-3/',\n",
       " 'https://insights.blackcoffer.com/should-celebrities-be-allowed-to-join-politics/',\n",
       " 'https://insights.blackcoffer.com/how-prepared-is-india-to-tackle-a-possible-covid-19-outbreak/',\n",
       " 'https://insights.blackcoffer.com/how-will-covid-19-affect-the-world-of-work/',\n",
       " 'https://insights.blackcoffer.com/controversy-as-a-marketing-strategy/',\n",
       " 'https://insights.blackcoffer.com/coronavirus-impact-on-the-hospitality-industry/',\n",
       " 'https://insights.blackcoffer.com/coronavirus-impact-on-energy-markets/',\n",
       " 'https://insights.blackcoffer.com/what-are-the-key-policies-that-will-mitigate-the-impacts-of-covid-19-on-the-world-of-work/',\n",
       " 'https://insights.blackcoffer.com/marketing-drives-results-with-a-focus-on-problems/',\n",
       " 'https://insights.blackcoffer.com/continued-demand-for-sustainability/',\n",
       " 'https://insights.blackcoffer.com/coronavirus-disease-covid-19-effect-the-impact-and-role-of-mass-media-during-the-pandemic/',\n",
       " 'https://insights.blackcoffer.com/should-people-wear-fabric-gloves-seeking-evidence-regarding-the-differential-transfer-of-covid-19-or-coronaviruses-generally-between-surfaces/',\n",
       " 'https://insights.blackcoffer.com/why-is-there-a-severe-immunological-and-inflammatory-explosion-in-those-affected-by-sarms-covid-19/',\n",
       " 'https://insights.blackcoffer.com/what-do-you-think-is-the-lesson-or-lessons-to-be-learned-with-covid-19/',\n",
       " 'https://insights.blackcoffer.com/coronavirus-the-unexpected-challenge-for-the-european-union/',\n",
       " 'https://insights.blackcoffer.com/industrial-revolution-4-0-pros-and-cons/',\n",
       " 'https://insights.blackcoffer.com/impact-of-covid-19-coronavirus-on-the-indian-economy/',\n",
       " 'https://insights.blackcoffer.com/impact-of-covid-19-coronavirus-on-the-indian-economy-2/',\n",
       " 'https://insights.blackcoffer.com/impact-of-covid-19coronavirus-on-the-indian-economy/',\n",
       " 'https://insights.blackcoffer.com/impact-of-covid-19-coronavirus-on-the-global-economy/',\n",
       " 'https://insights.blackcoffer.com/ensuring-growth-through-insurance-technology/',\n",
       " 'https://insights.blackcoffer.com/blockchain-in-fintech/',\n",
       " 'https://insights.blackcoffer.com/blockchain-for-payments/',\n",
       " 'https://insights.blackcoffer.com/the-future-of-investing/',\n",
       " 'https://insights.blackcoffer.com/big-data-analytics-in-healthcare/',\n",
       " 'https://insights.blackcoffer.com/business-analytics-in-the-healthcare-industry/',\n",
       " 'https://insights.blackcoffer.com/challenges-and-opportunities-of-big-data-in-healthcare/']"
      ]
     },
     "execution_count": 4,
     "metadata": {},
     "output_type": "execute_result"
    }
   ],
   "source": [
    "li = [url for url in df['URL']]\n",
    "li"
   ]
  },
  {
   "cell_type": "code",
   "execution_count": 5,
   "id": "55b8508a",
   "metadata": {},
   "outputs": [
    {
     "name": "stdout",
     "output_type": "stream",
     "text": [
      "Total 114 articles saved\n"
     ]
    }
   ],
   "source": [
    "articles = []\n",
    "for url in li:\n",
    "    r = requests.get(url)\n",
    "    data = r.text\n",
    "    soup = BeautifulSoup(data, \"html.parser\")\n",
    "    articles.append(soup.get_text())\n",
    "\n",
    "print(f'Total {len(articles)} articles saved')"
   ]
  },
  {
   "cell_type": "code",
   "execution_count": 6,
   "id": "3f1876ee",
   "metadata": {},
   "outputs": [],
   "source": [
    "for i in range(len(articles)):\n",
    "    articles[i]= articles[i].replace('\\n','')"
   ]
  },
  {
   "cell_type": "code",
   "execution_count": 7,
   "id": "8ebdf616",
   "metadata": {},
   "outputs": [],
   "source": [
    "stop_words = list(set(stopwords.words('english')))"
   ]
  },
  {
   "cell_type": "code",
   "execution_count": 8,
   "id": "b7986082",
   "metadata": {},
   "outputs": [],
   "source": [
    "sentences = []\n",
    "for article in articles:\n",
    "    sentences.append(len(sent_tokenize(article)))"
   ]
  },
  {
   "cell_type": "code",
   "execution_count": 9,
   "id": "1346cd48",
   "metadata": {},
   "outputs": [
    {
     "data": {
      "text/plain": [
       "114"
      ]
     },
     "execution_count": 9,
     "metadata": {},
     "output_type": "execute_result"
    }
   ],
   "source": [
    "len(sentences)"
   ]
  },
  {
   "cell_type": "code",
   "execution_count": 10,
   "id": "cfe45e95",
   "metadata": {},
   "outputs": [],
   "source": [
    "cleaned_articles = [' ']*len(articles)"
   ]
  },
  {
   "cell_type": "code",
   "execution_count": 11,
   "id": "9151011d",
   "metadata": {},
   "outputs": [],
   "source": [
    "for i in range(len(articles)):\n",
    "    for w in stop_words:\n",
    "        cleaned_articles[i]= articles[i].replace(' '+w+' ',' ').replace('?','').replace('.','').replace(',','').replace('!','')"
   ]
  },
  {
   "cell_type": "code",
   "execution_count": 12,
   "id": "5eef6d18",
   "metadata": {},
   "outputs": [
    {
     "data": {
      "text/plain": [
       "114"
      ]
     },
     "execution_count": 12,
     "metadata": {},
     "output_type": "execute_result"
    }
   ],
   "source": [
    "len(cleaned_articles)"
   ]
  },
  {
   "cell_type": "code",
   "execution_count": 13,
   "id": "fe56557f",
   "metadata": {},
   "outputs": [],
   "source": [
    "words = []\n",
    "for article in articles:\n",
    "    words.append(len(word_tokenize(article)))"
   ]
  },
  {
   "cell_type": "code",
   "execution_count": 27,
   "id": "86ac0042",
   "metadata": {},
   "outputs": [
    {
     "data": {
      "text/plain": [
       "114"
      ]
     },
     "execution_count": 27,
     "metadata": {},
     "output_type": "execute_result"
    }
   ],
   "source": [
    "len(words)"
   ]
  },
  {
   "cell_type": "code",
   "execution_count": 14,
   "id": "642e5b4f",
   "metadata": {},
   "outputs": [],
   "source": [
    "words_cleaned = []\n",
    "for article in cleaned_articles:\n",
    "    words_cleaned.append(len(word_tokenize(article)))"
   ]
  },
  {
   "cell_type": "code",
   "execution_count": 15,
   "id": "427ca0fd",
   "metadata": {},
   "outputs": [],
   "source": [
    "dictionary = pd.read_excel('MasterDictionary.xlsx')"
   ]
  },
  {
   "cell_type": "code",
   "execution_count": 16,
   "id": "9f935255",
   "metadata": {},
   "outputs": [],
   "source": [
    "positive_words = list(dictionary[dictionary['Positive']==2009]['Word'])\n",
    "positive_words = [word.lower() for word in positive_words]"
   ]
  },
  {
   "cell_type": "code",
   "execution_count": 17,
   "id": "724f7b67",
   "metadata": {},
   "outputs": [],
   "source": [
    "negative_words = list(dictionary[dictionary['Negative']==2009]['Word'])"
   ]
  },
  {
   "cell_type": "code",
   "execution_count": 18,
   "id": "275af9e2",
   "metadata": {},
   "outputs": [],
   "source": [
    "positive_score = [0]*len(articles)\n",
    "for i in range(len(articles)):\n",
    "    for word in positive_words:\n",
    "        for letter in cleaned_articles[i].lower().split(' '):\n",
    "            if letter==word:\n",
    "                positive_score[i]+=1"
   ]
  },
  {
   "cell_type": "code",
   "execution_count": 19,
   "id": "41c93520",
   "metadata": {},
   "outputs": [],
   "source": [
    "negative_score = [0]*len(articles)\n",
    "for i in range(len(articles)):\n",
    "    for word in negative_words:\n",
    "        for letter in cleaned_articles[i].upper().split(' '):\n",
    "            if letter==word:\n",
    "                negative_score[i]+=1"
   ]
  },
  {
   "cell_type": "code",
   "execution_count": 20,
   "id": "1d872e8a",
   "metadata": {},
   "outputs": [
    {
     "data": {
      "text/plain": [
       "114"
      ]
     },
     "execution_count": 20,
     "metadata": {},
     "output_type": "execute_result"
    }
   ],
   "source": [
    "len(positive_score)"
   ]
  },
  {
   "cell_type": "code",
   "execution_count": 21,
   "id": "bae8b59d",
   "metadata": {
    "scrolled": true
   },
   "outputs": [
    {
     "data": {
      "text/plain": [
       "114"
      ]
     },
     "execution_count": 21,
     "metadata": {},
     "output_type": "execute_result"
    }
   ],
   "source": [
    "len(negative_score)"
   ]
  },
  {
   "cell_type": "code",
   "execution_count": 22,
   "id": "a777a273",
   "metadata": {},
   "outputs": [],
   "source": [
    "words_cleaned = np.array(words_cleaned)\n",
    "sentences = np.array(sentences)"
   ]
  },
  {
   "cell_type": "code",
   "execution_count": 23,
   "id": "5c899767",
   "metadata": {},
   "outputs": [],
   "source": [
    "df['POSITIVE SCORE'] = positive_score\n",
    "df['NEGATIVE SCORE'] = negative_score"
   ]
  },
  {
   "cell_type": "code",
   "execution_count": 24,
   "id": "dd8a6d3d",
   "metadata": {},
   "outputs": [],
   "source": [
    "df['POLARITY SCORE'] = (df['POSITIVE SCORE']-df['NEGATIVE SCORE'])/ ((df['POSITIVE SCORE'] +df['NEGATIVE SCORE']) + 0.000001)"
   ]
  },
  {
   "cell_type": "code",
   "execution_count": 25,
   "id": "3777cd1b",
   "metadata": {},
   "outputs": [],
   "source": [
    "df['SUBJECTIVITY SCORE'] = (df['POSITIVE SCORE'] + df['NEGATIVE SCORE'])/( (words_cleaned) + 0.000001)"
   ]
  },
  {
   "cell_type": "code",
   "execution_count": 26,
   "id": "7b58c949",
   "metadata": {},
   "outputs": [],
   "source": [
    "df['AVG SENTENCE LENGTH'] = np.array(words)/np.array(sentences)"
   ]
  },
  {
   "cell_type": "code",
   "execution_count": 27,
   "id": "eea89c42",
   "metadata": {},
   "outputs": [],
   "source": [
    "complex_words = []\n",
    "sylabble_counts = []"
   ]
  },
  {
   "cell_type": "code",
   "execution_count": 28,
   "id": "be29242b",
   "metadata": {},
   "outputs": [],
   "source": [
    "for article in articles:\n",
    "    sylabble_count=0\n",
    "    d=article.split()\n",
    "    ans=0\n",
    "    for word in d:\n",
    "        count=0\n",
    "        for i in range(len(word)):\n",
    "            if(word[i]=='a' or word[i]=='e' or word[i] =='i' or word[i] == 'o' or word[i] == 'u'):\n",
    "                count+=1\n",
    "            if(i==len(word)-2 and (word[i]=='e' and word[i+1]=='d')):\n",
    "                count-=1;\n",
    "            if(i==len(word)-2 and (word[i]=='e' and word[i+1]=='s')):\n",
    "                count-=1;\n",
    "                sylabble_count+=count\n",
    "                if(count>2):\n",
    "                    ans+=1\n",
    "    sylabble_counts.append(sylabble_count)\n",
    "    complex_words.append(ans)    "
   ]
  },
  {
   "cell_type": "code",
   "execution_count": 29,
   "id": "b6d95e7f",
   "metadata": {},
   "outputs": [
    {
     "data": {
      "text/plain": [
       "114"
      ]
     },
     "execution_count": 29,
     "metadata": {},
     "output_type": "execute_result"
    }
   ],
   "source": [
    "len(complex_words)"
   ]
  },
  {
   "cell_type": "code",
   "execution_count": 30,
   "id": "9325fdc5",
   "metadata": {
    "scrolled": false
   },
   "outputs": [],
   "source": [
    "df['PERCENTAGE OF COMPLEX WORDS'] = np.array(complex_words)/np.array(words)"
   ]
  },
  {
   "cell_type": "code",
   "execution_count": 31,
   "id": "21901466",
   "metadata": {},
   "outputs": [],
   "source": [
    "df['FOG INDEX'] = 0.4 * (df['AVG SENTENCE LENGTH'] + df['PERCENTAGE OF COMPLEX WORDS'])"
   ]
  },
  {
   "cell_type": "code",
   "execution_count": 32,
   "id": "a804f880",
   "metadata": {},
   "outputs": [],
   "source": [
    "df['AVG NUMBER OF WORDS PER SENTENCES'] = df['AVG SENTENCE LENGTH']"
   ]
  },
  {
   "cell_type": "code",
   "execution_count": 33,
   "id": "6bc4b85a",
   "metadata": {},
   "outputs": [],
   "source": [
    "df['COMPLEX WORD COUNT'] = complex_words"
   ]
  },
  {
   "cell_type": "code",
   "execution_count": 34,
   "id": "959e3b2b",
   "metadata": {},
   "outputs": [],
   "source": [
    "df['WORD COUNT'] = words"
   ]
  },
  {
   "cell_type": "code",
   "execution_count": 35,
   "id": "e989c0e7",
   "metadata": {},
   "outputs": [],
   "source": [
    "df['SYLLABLE PER WORD'] = np.array(sylabble_counts)/np.array(words)"
   ]
  },
  {
   "cell_type": "code",
   "execution_count": 46,
   "id": "7a4c037f",
   "metadata": {},
   "outputs": [],
   "source": [
    "total_characters = []\n",
    "for article in articles:\n",
    "    characters = 0\n",
    "    for word in article.split():\n",
    "        characters+=len(word)\n",
    "    total_characters.append(characters)  "
   ]
  },
  {
   "cell_type": "code",
   "execution_count": 47,
   "id": "55d92dd2",
   "metadata": {},
   "outputs": [
    {
     "data": {
      "text/plain": [
       "114"
      ]
     },
     "execution_count": 47,
     "metadata": {},
     "output_type": "execute_result"
    }
   ],
   "source": [
    "len(total_characters)"
   ]
  },
  {
   "cell_type": "code",
   "execution_count": 39,
   "id": "d0b81366",
   "metadata": {},
   "outputs": [],
   "source": [
    "personal_nouns = []\n",
    "personal_noun =['I', 'we','my', 'ours','and' 'us','My','We','Ours','Us','And'] \n",
    "for article in articles:\n",
    "    ans=0\n",
    "    for word in article:\n",
    "        if word in personal_noun:\n",
    "            ans+=1\n",
    "    personal_nouns.append(ans)"
   ]
  },
  {
   "cell_type": "code",
   "execution_count": 48,
   "id": "c6935ef1",
   "metadata": {},
   "outputs": [
    {
     "data": {
      "text/plain": [
       "114"
      ]
     },
     "execution_count": 48,
     "metadata": {},
     "output_type": "execute_result"
    }
   ],
   "source": [
    "len(personal_nouns)"
   ]
  },
  {
   "cell_type": "code",
   "execution_count": 40,
   "id": "9b7984e4",
   "metadata": {},
   "outputs": [],
   "source": [
    "df['PERSONAL PRONOUN'] = personal_nouns"
   ]
  },
  {
   "cell_type": "code",
   "execution_count": 49,
   "id": "f6040647",
   "metadata": {},
   "outputs": [],
   "source": [
    "df['AVG WORD LENGTH'] = np.array(total_characters)/np.array(words)"
   ]
  },
  {
   "cell_type": "code",
   "execution_count": 50,
   "id": "53070baa",
   "metadata": {},
   "outputs": [
    {
     "data": {
      "text/html": [
       "<div>\n",
       "<style scoped>\n",
       "    .dataframe tbody tr th:only-of-type {\n",
       "        vertical-align: middle;\n",
       "    }\n",
       "\n",
       "    .dataframe tbody tr th {\n",
       "        vertical-align: top;\n",
       "    }\n",
       "\n",
       "    .dataframe thead th {\n",
       "        text-align: right;\n",
       "    }\n",
       "</style>\n",
       "<table border=\"1\" class=\"dataframe\">\n",
       "  <thead>\n",
       "    <tr style=\"text-align: right;\">\n",
       "      <th></th>\n",
       "      <th>URL_ID</th>\n",
       "      <th>URL</th>\n",
       "      <th>POSITIVE SCORE</th>\n",
       "      <th>NEGATIVE SCORE</th>\n",
       "      <th>POLARITY SCORE</th>\n",
       "      <th>SUBJECTIVITY SCORE</th>\n",
       "      <th>AVG SENTENCE LENGTH</th>\n",
       "      <th>PERCENTAGE OF COMPLEX WORDS</th>\n",
       "      <th>FOG INDEX</th>\n",
       "      <th>AVG NUMBER OF WORDS PER SENTENCES</th>\n",
       "      <th>COMPLEX WORD COUNT</th>\n",
       "      <th>WORD COUNT</th>\n",
       "      <th>SYLLABLE PER WORD</th>\n",
       "      <th>PERSONAL PRONOUN</th>\n",
       "      <th>AVG WORD LENGTH</th>\n",
       "    </tr>\n",
       "  </thead>\n",
       "  <tbody>\n",
       "    <tr>\n",
       "      <th>0</th>\n",
       "      <td>37</td>\n",
       "      <td>https://insights.blackcoffer.com/ai-in-healthc...</td>\n",
       "      <td>40</td>\n",
       "      <td>19</td>\n",
       "      <td>0.355932</td>\n",
       "      <td>0.022877</td>\n",
       "      <td>47.474576</td>\n",
       "      <td>0.011067</td>\n",
       "      <td>18.994257</td>\n",
       "      <td>47.474576</td>\n",
       "      <td>31</td>\n",
       "      <td>2801</td>\n",
       "      <td>0.071760</td>\n",
       "      <td>98</td>\n",
       "      <td>5.699036</td>\n",
       "    </tr>\n",
       "    <tr>\n",
       "      <th>1</th>\n",
       "      <td>38</td>\n",
       "      <td>https://insights.blackcoffer.com/what-if-the-c...</td>\n",
       "      <td>42</td>\n",
       "      <td>31</td>\n",
       "      <td>0.150685</td>\n",
       "      <td>0.032927</td>\n",
       "      <td>32.421053</td>\n",
       "      <td>0.009334</td>\n",
       "      <td>12.972155</td>\n",
       "      <td>32.421053</td>\n",
       "      <td>23</td>\n",
       "      <td>2464</td>\n",
       "      <td>0.076299</td>\n",
       "      <td>89</td>\n",
       "      <td>5.142045</td>\n",
       "    </tr>\n",
       "    <tr>\n",
       "      <th>2</th>\n",
       "      <td>39</td>\n",
       "      <td>https://insights.blackcoffer.com/what-jobs-wil...</td>\n",
       "      <td>41</td>\n",
       "      <td>38</td>\n",
       "      <td>0.037975</td>\n",
       "      <td>0.031752</td>\n",
       "      <td>36.743243</td>\n",
       "      <td>0.014711</td>\n",
       "      <td>14.703182</td>\n",
       "      <td>36.743243</td>\n",
       "      <td>40</td>\n",
       "      <td>2719</td>\n",
       "      <td>0.086061</td>\n",
       "      <td>80</td>\n",
       "      <td>5.531078</td>\n",
       "    </tr>\n",
       "    <tr>\n",
       "      <th>3</th>\n",
       "      <td>40</td>\n",
       "      <td>https://insights.blackcoffer.com/will-machine-...</td>\n",
       "      <td>47</td>\n",
       "      <td>19</td>\n",
       "      <td>0.424242</td>\n",
       "      <td>0.027363</td>\n",
       "      <td>30.964706</td>\n",
       "      <td>0.005319</td>\n",
       "      <td>12.388010</td>\n",
       "      <td>30.964706</td>\n",
       "      <td>14</td>\n",
       "      <td>2632</td>\n",
       "      <td>0.051672</td>\n",
       "      <td>123</td>\n",
       "      <td>5.201748</td>\n",
       "    </tr>\n",
       "    <tr>\n",
       "      <th>4</th>\n",
       "      <td>41</td>\n",
       "      <td>https://insights.blackcoffer.com/will-ai-repla...</td>\n",
       "      <td>42</td>\n",
       "      <td>24</td>\n",
       "      <td>0.272727</td>\n",
       "      <td>0.025731</td>\n",
       "      <td>36.363636</td>\n",
       "      <td>0.008571</td>\n",
       "      <td>14.548883</td>\n",
       "      <td>36.363636</td>\n",
       "      <td>24</td>\n",
       "      <td>2800</td>\n",
       "      <td>0.066429</td>\n",
       "      <td>84</td>\n",
       "      <td>5.253214</td>\n",
       "    </tr>\n",
       "    <tr>\n",
       "      <th>...</th>\n",
       "      <td>...</td>\n",
       "      <td>...</td>\n",
       "      <td>...</td>\n",
       "      <td>...</td>\n",
       "      <td>...</td>\n",
       "      <td>...</td>\n",
       "      <td>...</td>\n",
       "      <td>...</td>\n",
       "      <td>...</td>\n",
       "      <td>...</td>\n",
       "      <td>...</td>\n",
       "      <td>...</td>\n",
       "      <td>...</td>\n",
       "      <td>...</td>\n",
       "      <td>...</td>\n",
       "    </tr>\n",
       "    <tr>\n",
       "      <th>109</th>\n",
       "      <td>146</td>\n",
       "      <td>https://insights.blackcoffer.com/blockchain-fo...</td>\n",
       "      <td>24</td>\n",
       "      <td>19</td>\n",
       "      <td>0.116279</td>\n",
       "      <td>0.025982</td>\n",
       "      <td>40.568182</td>\n",
       "      <td>0.010084</td>\n",
       "      <td>16.231306</td>\n",
       "      <td>40.568182</td>\n",
       "      <td>18</td>\n",
       "      <td>1785</td>\n",
       "      <td>0.066667</td>\n",
       "      <td>67</td>\n",
       "      <td>5.861625</td>\n",
       "    </tr>\n",
       "    <tr>\n",
       "      <th>110</th>\n",
       "      <td>147</td>\n",
       "      <td>https://insights.blackcoffer.com/the-future-of...</td>\n",
       "      <td>37</td>\n",
       "      <td>11</td>\n",
       "      <td>0.541667</td>\n",
       "      <td>0.020348</td>\n",
       "      <td>46.851852</td>\n",
       "      <td>0.010277</td>\n",
       "      <td>18.744851</td>\n",
       "      <td>46.851852</td>\n",
       "      <td>26</td>\n",
       "      <td>2530</td>\n",
       "      <td>0.076285</td>\n",
       "      <td>89</td>\n",
       "      <td>5.372727</td>\n",
       "    </tr>\n",
       "    <tr>\n",
       "      <th>111</th>\n",
       "      <td>148</td>\n",
       "      <td>https://insights.blackcoffer.com/big-data-anal...</td>\n",
       "      <td>26</td>\n",
       "      <td>45</td>\n",
       "      <td>-0.267606</td>\n",
       "      <td>0.036617</td>\n",
       "      <td>30.507246</td>\n",
       "      <td>0.009501</td>\n",
       "      <td>12.206699</td>\n",
       "      <td>30.507246</td>\n",
       "      <td>20</td>\n",
       "      <td>2105</td>\n",
       "      <td>0.064133</td>\n",
       "      <td>72</td>\n",
       "      <td>5.476010</td>\n",
       "    </tr>\n",
       "    <tr>\n",
       "      <th>112</th>\n",
       "      <td>149</td>\n",
       "      <td>https://insights.blackcoffer.com/business-anal...</td>\n",
       "      <td>32</td>\n",
       "      <td>7</td>\n",
       "      <td>0.641026</td>\n",
       "      <td>0.026549</td>\n",
       "      <td>58.481481</td>\n",
       "      <td>0.010766</td>\n",
       "      <td>23.396899</td>\n",
       "      <td>58.481481</td>\n",
       "      <td>17</td>\n",
       "      <td>1579</td>\n",
       "      <td>0.077897</td>\n",
       "      <td>59</td>\n",
       "      <td>6.127296</td>\n",
       "    </tr>\n",
       "    <tr>\n",
       "      <th>113</th>\n",
       "      <td>150</td>\n",
       "      <td>https://insights.blackcoffer.com/challenges-an...</td>\n",
       "      <td>29</td>\n",
       "      <td>47</td>\n",
       "      <td>-0.236842</td>\n",
       "      <td>0.042577</td>\n",
       "      <td>28.188406</td>\n",
       "      <td>0.010283</td>\n",
       "      <td>11.279475</td>\n",
       "      <td>28.188406</td>\n",
       "      <td>20</td>\n",
       "      <td>1945</td>\n",
       "      <td>0.082262</td>\n",
       "      <td>57</td>\n",
       "      <td>5.596401</td>\n",
       "    </tr>\n",
       "  </tbody>\n",
       "</table>\n",
       "<p>114 rows × 15 columns</p>\n",
       "</div>"
      ],
      "text/plain": [
       "     URL_ID                                                URL  \\\n",
       "0        37  https://insights.blackcoffer.com/ai-in-healthc...   \n",
       "1        38  https://insights.blackcoffer.com/what-if-the-c...   \n",
       "2        39  https://insights.blackcoffer.com/what-jobs-wil...   \n",
       "3        40  https://insights.blackcoffer.com/will-machine-...   \n",
       "4        41  https://insights.blackcoffer.com/will-ai-repla...   \n",
       "..      ...                                                ...   \n",
       "109     146  https://insights.blackcoffer.com/blockchain-fo...   \n",
       "110     147  https://insights.blackcoffer.com/the-future-of...   \n",
       "111     148  https://insights.blackcoffer.com/big-data-anal...   \n",
       "112     149  https://insights.blackcoffer.com/business-anal...   \n",
       "113     150  https://insights.blackcoffer.com/challenges-an...   \n",
       "\n",
       "     POSITIVE SCORE  NEGATIVE SCORE  POLARITY SCORE  SUBJECTIVITY SCORE  \\\n",
       "0                40              19        0.355932            0.022877   \n",
       "1                42              31        0.150685            0.032927   \n",
       "2                41              38        0.037975            0.031752   \n",
       "3                47              19        0.424242            0.027363   \n",
       "4                42              24        0.272727            0.025731   \n",
       "..              ...             ...             ...                 ...   \n",
       "109              24              19        0.116279            0.025982   \n",
       "110              37              11        0.541667            0.020348   \n",
       "111              26              45       -0.267606            0.036617   \n",
       "112              32               7        0.641026            0.026549   \n",
       "113              29              47       -0.236842            0.042577   \n",
       "\n",
       "     AVG SENTENCE LENGTH  PERCENTAGE OF COMPLEX WORDS  FOG INDEX  \\\n",
       "0              47.474576                     0.011067  18.994257   \n",
       "1              32.421053                     0.009334  12.972155   \n",
       "2              36.743243                     0.014711  14.703182   \n",
       "3              30.964706                     0.005319  12.388010   \n",
       "4              36.363636                     0.008571  14.548883   \n",
       "..                   ...                          ...        ...   \n",
       "109            40.568182                     0.010084  16.231306   \n",
       "110            46.851852                     0.010277  18.744851   \n",
       "111            30.507246                     0.009501  12.206699   \n",
       "112            58.481481                     0.010766  23.396899   \n",
       "113            28.188406                     0.010283  11.279475   \n",
       "\n",
       "     AVG NUMBER OF WORDS PER SENTENCES  COMPLEX WORD COUNT  WORD COUNT  \\\n",
       "0                            47.474576                  31        2801   \n",
       "1                            32.421053                  23        2464   \n",
       "2                            36.743243                  40        2719   \n",
       "3                            30.964706                  14        2632   \n",
       "4                            36.363636                  24        2800   \n",
       "..                                 ...                 ...         ...   \n",
       "109                          40.568182                  18        1785   \n",
       "110                          46.851852                  26        2530   \n",
       "111                          30.507246                  20        2105   \n",
       "112                          58.481481                  17        1579   \n",
       "113                          28.188406                  20        1945   \n",
       "\n",
       "     SYLLABLE PER WORD  PERSONAL PRONOUN  AVG WORD LENGTH  \n",
       "0             0.071760                98         5.699036  \n",
       "1             0.076299                89         5.142045  \n",
       "2             0.086061                80         5.531078  \n",
       "3             0.051672               123         5.201748  \n",
       "4             0.066429                84         5.253214  \n",
       "..                 ...               ...              ...  \n",
       "109           0.066667                67         5.861625  \n",
       "110           0.076285                89         5.372727  \n",
       "111           0.064133                72         5.476010  \n",
       "112           0.077897                59         6.127296  \n",
       "113           0.082262                57         5.596401  \n",
       "\n",
       "[114 rows x 15 columns]"
      ]
     },
     "execution_count": 50,
     "metadata": {},
     "output_type": "execute_result"
    }
   ],
   "source": [
    "df"
   ]
  },
  {
   "cell_type": "code",
   "execution_count": 51,
   "id": "b2c4de7e",
   "metadata": {},
   "outputs": [],
   "source": [
    "df.to_excel('Output Data Structure.xlsx')"
   ]
  },
  {
   "cell_type": "code",
   "execution_count": null,
   "id": "1bf39fb6",
   "metadata": {},
   "outputs": [],
   "source": []
  }
 ],
 "metadata": {
  "kernelspec": {
   "display_name": "Python 3 (ipykernel)",
   "language": "python",
   "name": "python3"
  },
  "language_info": {
   "codemirror_mode": {
    "name": "ipython",
    "version": 3
   },
   "file_extension": ".py",
   "mimetype": "text/x-python",
   "name": "python",
   "nbconvert_exporter": "python",
   "pygments_lexer": "ipython3",
   "version": "3.9.12"
  }
 },
 "nbformat": 4,
 "nbformat_minor": 5
}
